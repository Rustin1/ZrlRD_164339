{
  "nbformat": 4,
  "nbformat_minor": 0,
  "metadata": {
    "colab": {
      "provenance": []
    },
    "kernelspec": {
      "name": "python3",
      "display_name": "Python 3"
    },
    "language_info": {
      "name": "python"
    }
  },
  "cells": [
    {
      "cell_type": "markdown",
      "source": [
        "# 1. Wczytanie danych z IMDb (ograniczenie do 300 losowych filmów)"
      ],
      "metadata": {
        "id": "IauuGb3JLSuE"
      }
    },
    {
      "cell_type": "code",
      "execution_count": 4,
      "metadata": {
        "colab": {
          "base_uri": "https://localhost:8080/"
        },
        "id": "Kv-q6YThILA1",
        "outputId": "f74653c7-c9b3-4bf9-bff4-401528c44d19"
      },
      "outputs": [
        {
          "output_type": "stream",
          "name": "stdout",
          "text": [
            "          id      primaryTitle     originalTitle  isAdult  runtimeMinutes  \\\n",
            "0  tt0816692      Interstellar      Interstellar        0             169   \n",
            "1  tt1840309         Divergent         Divergent        0             139   \n",
            "2  tt0424345         Clerks II         Clerks II        0              97   \n",
            "3  tt0325710  The Last Samurai  The Last Samurai        0             154   \n",
            "4  tt3416532   A Monster Calls   A Monster Calls        0             108   \n",
            "\n",
            "                     genres  averageRating  numVotes     budget        gross  \\\n",
            "0    Adventure,Drama,Sci-Fi            8.7   2009279  165000000  703170837.0   \n",
            "1  Action,Adventure,Mystery            6.6    479336   85000000  288885818.0   \n",
            "2                    Comedy            7.3    139558    5000000   26986174.0   \n",
            "3              Action,Drama            7.8    461081  140000000  454627263.0   \n",
            "4    Adventure,Drama,Family            7.4     92032   43000000   47309313.0   \n",
            "\n",
            "        release_date          directors  \n",
            "0   October 26, 2014  Christopher Nolan  \n",
            "1     March 18, 2014        Neil Burger  \n",
            "2       May 26, 2006        Kevin Smith  \n",
            "3  November 22, 2003       Edward Zwick  \n",
            "4  September 9, 2016        J.A. Bayona  \n",
            "<class 'pandas.core.frame.DataFrame'>\n",
            "RangeIndex: 300 entries, 0 to 299\n",
            "Data columns (total 12 columns):\n",
            " #   Column          Non-Null Count  Dtype  \n",
            "---  ------          --------------  -----  \n",
            " 0   id              300 non-null    object \n",
            " 1   primaryTitle    300 non-null    object \n",
            " 2   originalTitle   300 non-null    object \n",
            " 3   isAdult         300 non-null    int64  \n",
            " 4   runtimeMinutes  300 non-null    int64  \n",
            " 5   genres          300 non-null    object \n",
            " 6   averageRating   300 non-null    float64\n",
            " 7   numVotes        300 non-null    int64  \n",
            " 8   budget          300 non-null    int64  \n",
            " 9   gross           297 non-null    float64\n",
            " 10  release_date    299 non-null    object \n",
            " 11  directors       300 non-null    object \n",
            "dtypes: float64(2), int64(4), object(6)\n",
            "memory usage: 28.3+ KB\n",
            "None\n",
            "       isAdult  runtimeMinutes  averageRating      numVotes        budget  \\\n",
            "count    300.0       300.00000     300.000000  3.000000e+02  3.000000e+02   \n",
            "mean       0.0       113.89000       6.773333  2.135837e+05  5.082205e+07   \n",
            "std        0.0        20.26541       0.894926  2.752498e+05  5.281464e+07   \n",
            "min        0.0        75.00000       2.400000  5.032900e+04  7.000000e+03   \n",
            "25%        0.0        99.00000       6.300000  7.175025e+04  1.500000e+07   \n",
            "50%        0.0       112.00000       6.800000  1.230780e+05  3.000000e+07   \n",
            "75%        0.0       124.00000       7.400000  2.291600e+05  7.000000e+07   \n",
            "max        0.0       191.00000       9.200000  2.009279e+06  2.910000e+08   \n",
            "\n",
            "              gross  \n",
            "count  2.970000e+02  \n",
            "mean   1.591137e+08  \n",
            "std    2.089373e+08  \n",
            "min    2.100000e+02  \n",
            "25%    3.084275e+07  \n",
            "50%    7.875618e+07  \n",
            "75%    2.145772e+08  \n",
            "max    1.520539e+09  \n"
          ]
        }
      ],
      "source": [
        "import pandas as pd\n",
        "import numpy as np\n",
        "import os\n",
        "import time\n",
        "from sklearn.preprocessing import StandardScaler\n",
        "from sklearn.ensemble import RandomForestRegressor\n",
        "from sklearn.model_selection import train_test_split\n",
        "from sklearn.compose import ColumnTransformer\n",
        "from sklearn.pipeline import Pipeline\n",
        "from sklearn.impute import SimpleImputer\n",
        "from sklearn.ensemble import IsolationForest\n",
        "import matplotlib.pyplot as plt\n",
        "import seaborn as sns\n",
        "import requests\n",
        "from sklearn.metrics import mean_absolute_error, mean_squared_error, r2_score\n",
        "from dotenv import load_dotenv\n",
        "load_dotenv()\n",
        "\n",
        "\n",
        "with open(\"api_key.txt\", \"r\") as file:\n",
        "    API_KEY = file.read().strip()\n",
        "\n",
        "\n",
        "\n",
        "imdb_df = pd.read_csv(\"imdb_data.csv\")\n",
        "imdb_df = imdb_df.sample(n=300, random_state=42).reset_index(drop=True)\n",
        "\n",
        "print(imdb_df.head())\n",
        "print(imdb_df.info())\n",
        "print(imdb_df.describe())\n"
      ]
    },
    {
      "cell_type": "markdown",
      "source": [
        "# 2. Funkcja do pobierania popularności z TMDb API"
      ],
      "metadata": {
        "id": "sfh4gwv5Laqn"
      }
    },
    {
      "cell_type": "code",
      "source": [
        "def fetch_tmdb_popularity(titles, api_key, cache_file=\"tmdb_trends.parquet\"):\n",
        "    if os.path.exists(cache_file):\n",
        "        return pd.read_parquet(cache_file)\n",
        "\n",
        "    base_url = \"https://api.themoviedb.org/3/search/movie\"\n",
        "    results = []\n",
        "\n",
        "    for title in titles:\n",
        "        params = {\n",
        "            \"api_key\": api_key,\n",
        "            \"query\": title\n",
        "        }\n",
        "        try:\n",
        "            response = requests.get(base_url, params=params)\n",
        "            response.raise_for_status()\n",
        "            data = response.json()\n",
        "            if data[\"results\"]:\n",
        "                result = data[\"results\"][0]\n",
        "                results.append({\n",
        "                    \"title\": title,\n",
        "                    \"trend_score\": result.get(\"popularity\", 0)\n",
        "                })\n",
        "            else:\n",
        "                results.append({\"title\": title, \"trend_score\": 0})\n",
        "        except Exception as e:\n",
        "            print(f\"Error for '{title}': {e}\")\n",
        "            results.append({\"title\": title, \"trend_score\": 0})\n",
        "        time.sleep(0.2)\n",
        "\n",
        "    df = pd.DataFrame(results)\n",
        "    df.to_parquet(cache_file)\n",
        "    return df"
      ],
      "metadata": {
        "id": "cPy1ACFPIaZ6"
      },
      "execution_count": 5,
      "outputs": []
    },
    {
      "cell_type": "markdown",
      "source": [
        "#3. Pobieranie danych TMDb (dla 300 tytułów)"
      ],
      "metadata": {
        "id": "Fm_N98yALlPk"
      }
    },
    {
      "cell_type": "code",
      "source": [
        "titles_300 = imdb_df['primaryTitle'].unique()\n",
        "tmdb_df = fetch_tmdb_popularity(titles_300, api_key=API_KEY)\n",
        "\n",
        "# Łączenie danych\n",
        "df = pd.merge(imdb_df, tmdb_df, left_on='primaryTitle', right_on='title', how='left')"
      ],
      "metadata": {
        "id": "50yUJcZjIgUp"
      },
      "execution_count": 6,
      "outputs": []
    },
    {
      "cell_type": "markdown",
      "source": [
        "\n",
        "#4. Czyszczenie danych"
      ],
      "metadata": {
        "id": "xKZpeo-9MJR5"
      }
    },
    {
      "cell_type": "code",
      "source": [
        "df['trend_score'] = df['trend_score'].fillna(0)\n",
        "df = df.dropna(subset=['gross'])\n",
        "\n",
        "# Usunięcie outlierów na podstawie numVotes\n",
        "iso = IsolationForest(contamination=0.05, random_state=42)\n",
        "mask = iso.fit_predict(df[['numVotes']])\n",
        "df = df[mask == 1]"
      ],
      "metadata": {
        "id": "c-Ob4vf0Ii2r"
      },
      "execution_count": 7,
      "outputs": []
    },
    {
      "cell_type": "markdown",
      "source": [
        "#5. Przygotowanie cech (genres rozbijamy na binarne kolumny)"
      ],
      "metadata": {
        "id": "DwCKXTmlMUMT"
      }
    },
    {
      "cell_type": "code",
      "source": [
        "df['genres'] = df['genres'].fillna('')\n",
        "df_genres = df['genres'].str.get_dummies(sep=',')\n",
        "\n",
        "target = 'gross'\n",
        "\n",
        "features = ['runtimeMinutes', 'averageRating', 'trend_score', 'isAdult', 'budget'] + list(df_genres.columns)\n",
        "\n",
        "X = pd.concat([df[features[:5]], df_genres], axis=1)\n",
        "y = np.log1p(df[target])\n",
        "\n",
        "# Skalowanie cech numerycznych i binarnych\n",
        "numeric_features = features\n",
        "\n",
        "numeric_transformer = Pipeline([\n",
        "    ('imputer', SimpleImputer(strategy='mean')),\n",
        "    ('scaler', StandardScaler())\n",
        "])\n",
        "\n",
        "preprocessor = ColumnTransformer([\n",
        "    ('num', numeric_transformer, numeric_features),\n",
        "])"
      ],
      "metadata": {
        "id": "zATg4AUhIlv1"
      },
      "execution_count": 8,
      "outputs": []
    },
    {
      "cell_type": "markdown",
      "source": [
        "#6. Podział na dane treningowe i testowe"
      ],
      "metadata": {
        "id": "MP6IdUTpMhx_"
      }
    },
    {
      "cell_type": "code",
      "source": [
        "X_train, X_test, y_train, y_test = train_test_split(X, y, test_size=0.2, random_state=42)"
      ],
      "metadata": {
        "id": "6QvlBtpDIp7b"
      },
      "execution_count": 9,
      "outputs": []
    },
    {
      "cell_type": "markdown",
      "source": [
        "#7. Model regresji RandomForest"
      ],
      "metadata": {
        "id": "f3cWeeBKMo_P"
      }
    },
    {
      "cell_type": "code",
      "source": [
        "regressor = Pipeline([\n",
        "    ('preprocessor', preprocessor),\n",
        "    ('regressor', RandomForestRegressor(random_state=42))\n",
        "])\n",
        "\n",
        "regressor.fit(X_train, y_train)\n",
        "y_pred_log = regressor.predict(X_test)\n",
        "y_pred = np.expm1(y_pred_log)  # odwrócenie logarytmu\n"
      ],
      "metadata": {
        "id": "C-L6DA4TIsSh"
      },
      "execution_count": 10,
      "outputs": []
    },
    {
      "cell_type": "markdown",
      "source": [
        "#8. Ocena modelu"
      ],
      "metadata": {
        "id": "eMQ7GB-GMudQ"
      }
    },
    {
      "cell_type": "code",
      "source": [
        "def evaluate_regression_model(y_true, y_pred):\n",
        "    mse = mean_squared_error(y_true, y_pred)\n",
        "    rmse = np.sqrt(mse)\n",
        "    mae = mean_absolute_error(y_true, y_pred)\n",
        "    r2 = r2_score(y_true, y_pred)\n",
        "    print(\"Ocena modelu regresji:\")\n",
        "    print(f\"MAE:  {mae:.4f}\")\n",
        "    print(f\"MSE:  {mse:.4f}\")\n",
        "    print(f\"RMSE: {rmse:.4f}\")\n",
        "    print(f\"R2:   {r2:.4f}\")"
      ],
      "metadata": {
        "id": "XyY0gchOIuYl"
      },
      "execution_count": 11,
      "outputs": []
    },
    {
      "cell_type": "markdown",
      "source": [
        "#9. Wykres ważności cech"
      ],
      "metadata": {
        "id": "RcuHy1NOMyXF"
      }
    },
    {
      "cell_type": "code",
      "source": [
        "def plot_feature_importance(model, feature_names):\n",
        "    importances = model.feature_importances_\n",
        "    feature_df = pd.DataFrame({'Feature': feature_names, 'Importance': importances})\n",
        "    feature_df = feature_df.sort_values(by='Importance', ascending=False)\n",
        "\n",
        "    plt.figure(figsize=(10, 8))\n",
        "    sns.barplot(data=feature_df, x='Importance', y='Feature',\n",
        "                hue='Feature', dodge=False, palette='viridis', legend=False)\n",
        "    plt.title(\"Feature Importance\")\n",
        "    plt.tight_layout()\n",
        "    plt.legend([],[], frameon=False)  # ukrycie legendy\n",
        "    plt.show()\n",
        "\n",
        "\n",
        "plot_feature_importance(regressor.named_steps['regressor'], numeric_features)\n",
        "evaluate_regression_model(np.expm1(y_test), y_pred)"
      ],
      "metadata": {
        "colab": {
          "base_uri": "https://localhost:8080/",
          "height": 899
        },
        "id": "9ruq4RzJIxmX",
        "outputId": "69b8583f-c6a2-4fc1-df68-cc3cf83cc3e1"
      },
      "execution_count": 12,
      "outputs": [
        {
          "output_type": "display_data",
          "data": {
            "text/plain": [
              "<Figure size 1000x800 with 1 Axes>"
            ],
            "image/png": "[encoded data removed]"
          },
          "metadata": {}
        },
        {
          "output_type": "stream",
          "name": "stdout",
          "text": [
            "Ocena modelu regresji:\n",
            "MAE:  75173103.6329\n",
            "MSE:  15819373241031114.0000\n",
            "RMSE: 125775089.9067\n",
            "R2:   0.4070\n"
          ]
        }
      ]
    }
  ]
}